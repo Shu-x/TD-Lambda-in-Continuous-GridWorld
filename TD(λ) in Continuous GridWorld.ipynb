{
 "cells": [
  {
   "cell_type": "markdown",
   "metadata": {},
   "source": [
    "# TD(λ) (Temporal Difference with eligibility trace) in Continuous GridWorld\n",
    "Given a \"world\" spanning from coordinates (0,0) to (10,10), train an agent to reach the goal while maximizing its rewards.\n",
    "\n",
    "**Environment and state space**\n",
    "* The ‘world’ has a continuous space, spanning from coordinates 0 to 10 along both the horizontal and vertical dimensions.\n",
    "* The starting point is (2,2).\n",
    "8 The agent cannot go outside of the grid.\n",
    "* **Rewards**\n",
    "    * **Trap:** Anywhere within the region (2,4) to (8,5) is the trap, in which the agent receives a reward of −50 for each step it takes in the trap.\n",
    "    * **Goal:** Anywhere within the region (2,4) to (8,5) is the trap, in which the agent receives a reward of +100 once it reaches the goal and the episode terminates.\n",
    "    * All moves which do not end in the goal or trap region will have a reward of −1, even if the agent tries to move off-grid.\n",
    "\n",
    "**The agent**\n",
    "* The agent can only move 1 unit distance per step in any direction in increments of 10 degrees. Therefore, there are 36 possible actions that the agent can take.\n",
    "* The agent's moves are clipped to within the grid.\n",
    "* Movement is deterministic.\n"
   ]
  },
  {
   "cell_type": "code",
   "execution_count": 1,
   "metadata": {},
   "outputs": [],
   "source": [
    "import numpy as np\n",
    "import pandas as pd\n",
    "import math\n",
    "import random\n",
    "from tqdm import tqdm\n",
    "from copy import deepcopy\n",
    "from collections import defaultdict, deque, Counter\n",
    "from prettytable import PrettyTable\n",
    "\n",
    "import matplotlib.pyplot as plt\n",
    "\n",
    "import torch\n",
    "import torch.nn as nn\n",
    "import torch.optim as optim"
   ]
  },
  {
   "cell_type": "markdown",
   "metadata": {},
   "source": [
    "## 1. Implementing the environment\n",
    "Create an environment class, which will include\n",
    "1. `transition` function to calculate the rewards and position of the next state.\n",
    "2. `reward` function to assign the reward at every step.\n",
    "3. Other helper functions"
   ]
  },
  {
   "cell_type": "code",
   "execution_count": 2,
   "metadata": {},
   "outputs": [],
   "source": [
    "# The environment\n",
    "class ContinuousGridWorld:\n",
    "    def __init__(self):\n",
    "        self.world = [[0,0],[10,10]]    # [[begin_x,begin_y],[end_x,end_y]]\n",
    "        self.initial_pos = [2,2]        # [x,y]\n",
    "        self.dist = 1                   # Agent only allowed to move 1 unit distance\n",
    "        self.goal = [[7,7],[8,8]]       # [[begin_x,begin_y],[end_x,end_y]]\n",
    "        self.trap = [[2,4],[8,5]]       # [[begin_x,begin_y],[end_x,end_y]]\n",
    "        self.trig_tolerance = 1e-15     # A small tolerance for considering the result of trigonometric calculations as 0\n",
    "        self.num_actions = 36           # The agent has 36 possible actions in 10 degree increaments\n",
    "\n",
    "    # Resets agent back to starting position\n",
    "    def reset(self):\n",
    "        self.is_done = False\n",
    "        self.cur_state = deepcopy(self.initial_pos)\n",
    "        return self.cur_state\n",
    "\n",
    "    # Returns the number of dimensions of the grid\n",
    "    def _get_state_dim(self):\n",
    "        return len(self.world[0])\n",
    "\n",
    "    # The agent has 36 possible actions in 10 degree increaments\n",
    "    def _get_action_dim(self):\n",
    "        return self.num_actions\n",
    "\n",
    "    # Transition function to calculate rewards and position of next state\n",
    "    def transition(self, state, action):\n",
    "        if self.is_done:\n",
    "            return 0, state, True\n",
    "\n",
    "        # Agent can only move 1 unit distance. x = 1*cos(theta), y = 1*sin(theta)\n",
    "        x = math.cos(action)\n",
    "        y = math.sin(action)\n",
    "        if abs(x) < self.trig_tolerance:\n",
    "            x = 0\n",
    "        if abs(y) < self.trig_tolerance:\n",
    "            y = 0\n",
    "        \n",
    "        # Assuming moving 0 degrees always brings you north, clip the agent's coordinates so that it doesn't move out of the grid\n",
    "        next_state_x = state[0] + (self.dist * x)\n",
    "        next_state_x = np.clip(next_state_x, self.world[0][0], self.world[1][0])\n",
    "        next_state_y = state[1] + (self.dist * y)\n",
    "        next_state_y = np.clip(next_state_y, self.world[0][1], self.world[1][1])\n",
    "        next_state = [next_state_x, next_state_y]\n",
    "\n",
    "        # Define rewards\n",
    "        # If goal is reached\n",
    "        if (self.goal[0][0] <= next_state[0] <= self.goal[1][0]) and (self.goal[0][1] <= next_state[1] <= self.goal[1][1]):\n",
    "            reward = 100\n",
    "            self.is_done = True\n",
    "        # If agent is in the trap\n",
    "        elif (self.trap[0][0] <= next_state[0] <= self.trap[1][0]) and (self.trap[0][1] <= next_state[1] <= self.trap[1][1]):\n",
    "            reward = -50\n",
    "        # If agent is not in the goal or trap\n",
    "        else:\n",
    "            reward = -1\n",
    "\n",
    "        return reward, next_state, self.is_done"
   ]
  },
  {
   "cell_type": "markdown",
   "metadata": {},
   "source": [
    "## 2. Implementing the agent\n",
    "This is were we implement an **all-in-one TD(λ) algorithm** which covers the following methods:\n",
    "| TD Algorithm                     | On-Policy | $λ$        |\n",
    "|:---------------------------------|:----------|:-----------|\n",
    "| Monte Carlo                      | True      | $λ=1$      |\n",
    "| SARSA (1-step TD)                | True      | $λ=0$      |\n",
    "| Q-Learning                       | False     | $λ=0$      |\n",
    "| General on-policy TD($\\lambda$)  | True      | $0<λ<1$    |\n",
    "| General off-policy TD($\\lambda$) | False     | $0<λ<1$    |\n",
    "\n",
    "\n",
    "Drawing inspiration from Double Deep Q-Learning (DQN), we implement **2 neural networks**\n",
    "1. `Q_main`, which we will train to get $Q_{predicted}$. We use this to predict $Q(s_t,a_t)$\n",
    "2. `Q_target` to get $Q_{target}$. We use this to predict $Q(s_{t+1},a_{t+1})$. It takes the next state from each data sample and predicts the the **next** Q value either from\n",
    "    * the best action out of all actions that can be taken from that state (this would be DQN), or\n",
    "    * the next action that can be taken based on a policy (this is our case, where we use the `epsilon_greedy_policy` to select an action)\n",
    "\n",
    "Using 2 neural networks allows us to decouple $Q_{predicted}$ and $Q_{target}$ to some extent to make training more stable. It is possible to ony use 1 neural network where we get $Q_{predicted}$ and $Q_{target}$ from `Q_main`, but because `Q_main`'s weights are updated at each time step during training, $Q_{target}$'s direction will keep changing as well (like chasing a moving target). Hence, we use a second neural network `Q_target`, which is not trained (to keep $Q_{target}$) but rather, updated periodically with the learnt weights from `Q_main` as a compromise to help it improve. We recommend a more detailed explanation by <a href=\"https://towardsdatascience.com/reinforcement-learning-explained-visually-part-5-deep-q-networks-step-by-step-5a5317197f4b\">Doshi, K (2020)</a>"
   ]
  },
  {
   "cell_type": "markdown",
   "metadata": {},
   "source": [
    "We create the following classes and their functions\n",
    "1. `Net`, for the neural network.\n",
    "\n",
    "2. `TemporalDifference`, the TD(λ) algorithm, which consists of the following functions\n",
    "    1. `epsilon_greedy_policy`, our action selection strategy.\n",
    "    2. `train` to train the agent and collect experience (episodes or steps) in a memory buffer.\n",
    "        * For **Monte Carlo**,\n",
    "            * Each successfully completed **episode** is stored in the memory buffer.\n",
    "            * Because Monte Carlo requires the episode to be completed before learning, there is a chance that the agent gets stuck in the corner for too long and the episode never completes (there are infinite states in continuous state space).\n",
    "            * Hence, we impose a limit to the number of steps the agent can take—if the agent has not reached the goal after >`steps_limit`, the episode is deemed to be a \"poor\" solution and should be discarded.\n",
    "        * For **other TD methods** (not Monte Carlo), each **step** is stored in the memory buffer.\n",
    "    3. `replay`, where once the agent gathers enough experience (i.e. when memory exceeds batch size), we sample a batch to update the Q network.\n",
    "        * Q values are computed here, where\n",
    "            * $Q_{target}(s,a) = [R_{t+1} + \\gamma Q(s_{t+1}, a_{t+1})]\\cdot E(s)$ when `on_policy=True`.\n",
    "            * $Q_{target}(s,a) = [R_{t+1} + \\gamma max_{a}{Q(s_{t+1}, a_{t+1})}]\\cdot E(s)$ when `on_policy=False`.\n",
    "            * $E(s)$ is the eligibility trace $\\forall s\\in S$, where $S$ is the set of previously visited states in the same episode.\n",
    "        * The loss function is the mean squared error (MSE)."
   ]
  },
  {
   "cell_type": "code",
   "execution_count": 3,
   "metadata": {},
   "outputs": [],
   "source": [
    "class Net(nn.Module):\n",
    "    def __init__(self, input_dim, output_dim):\n",
    "        super().__init__()\n",
    "        # Hidden layers. In this case, we will use 3 hidden layers.\n",
    "        self.fc1 = nn.Linear(input_dim, 64)\n",
    "        self.fc2 = nn.Linear(64, 32)\n",
    "        self.fc3 = nn.Linear(32, output_dim)\n",
    "\n",
    "    # Feed forward\n",
    "    def forward(self, x):\n",
    "        x = torch.relu(self.fc1(x))\n",
    "        x = torch.relu(self.fc2(x))\n",
    "        return self.fc3(x)\n",
    "\n",
    "\n",
    "class TemporalDifference:\n",
    "    def __init__(self, Env, alpha=0.001, gamma=0.9, epsilon=0.1, lambd=0.9, batch_size=32):\n",
    "        self.Env = Env\n",
    "        self.alpha = alpha\n",
    "        self.gamma = gamma\n",
    "        self.lambd = lambd\n",
    "        self.epsilon = epsilon\n",
    "        self.batch_size = batch_size\n",
    "        self.name = f\"TemporalDifference(α = {self.alpha}, ɣ = {self.gamma}, ε = {self.epsilon}, λ = {self.lambd})\"\n",
    "        \n",
    "        self.state_dim = self.Env._get_state_dim()      # Get dimensions of the state (in this case, state_dim=2 because the environment is 2D)\n",
    "        self.action_dim = self.Env._get_action_dim()    # Get number of actions\n",
    "\n",
    "        # Create two neural networks: Q_main and Q_target\n",
    "        self.Q_main = Net(self.state_dim, self.action_dim)\n",
    "        self.Q_target = deepcopy(self.Q_main)\n",
    "        self.optimizer = optim.Adam(self.Q_main.parameters(), lr=self.alpha)\n",
    "\n",
    "    # Action selection strategy\n",
    "    def epsilon_greedy_policy(self, state):\n",
    "        if np.random.rand() < self.epsilon:\n",
    "            return np.random.choice(self.action_dim)    # Explore by taking a random action\n",
    "        else:\n",
    "            state_tensor = torch.FloatTensor(state).unsqueeze(0)\n",
    "            with torch.no_grad():\n",
    "                return torch.argmax(self.Q_main(state_tensor)).item()   # Exploit by taking the best action\n",
    "\n",
    "    # Reset Q_main and Q_target\n",
    "    def reset(self):\n",
    "        self.Q_main = Net(self.state_dim, self.action_dim)\n",
    "        self.Q_target = deepcopy(self.Q_main)\n",
    "        self.optimizer = optim.Adam(self.Q_main.parameters(), lr=self.alpha)\n",
    "\n",
    "    # Update Q_target (soft update)\n",
    "    def _soft_update_Qtarget(self, tau=0.01):\n",
    "        with torch.no_grad():\n",
    "            for target_param, param in zip(self.Q_target.parameters(), self.Q_main.parameters()):\n",
    "                target_param += tau * (param - target_param)\n",
    "\n",
    "    # Update Q_main's weights, similar to backpropagation\n",
    "    def _update_Qmain_weights(self, loss):\n",
    "        self.optimizer.zero_grad()\n",
    "        loss.backward()\n",
    "        self.optimizer.step()\n",
    "        self._soft_update_Qtarget()\n",
    "\n",
    "    # Reset the episode if it gets too long\n",
    "    def reset_episode(self):\n",
    "        state = self.Env.reset()\n",
    "        done = False\n",
    "        step = 0\n",
    "        episode_return = 0\n",
    "        trace_dict = {} # For storing eligibility traces {(state_x, state_y, action): trace value}\n",
    "    \n",
    "        return state, done, step, episode_return, trace_dict\n",
    "    \n",
    "    # Train the agent\n",
    "    def train(self, num_episodes, on_policy=True):\n",
    "        memory = deque(maxlen=10_000)       # Memory of all episodes performed\n",
    "        step_limit = 2_000                  # To limit the number of steps, so that we can kill the episode if the number of steps go out of hand. \n",
    "\n",
    "        # Iterate through episodes\n",
    "        for _ in tqdm(range(num_episodes), desc=\"Episodes\", position=0, leave=True):\n",
    "            # state, done, step, episode_return, trace_idx_dict, trace, episode_state_visits = self.reset_episode()\n",
    "            state, done, step, episode_return, trace_dict = self.reset_episode()\n",
    "            action = self.epsilon_greedy_policy(state)\n",
    "\n",
    "            while not done and step < step_limit:\n",
    "                reward, next_state, done = self.Env.transition(state, action)\n",
    "                next_action = self.epsilon_greedy_policy(next_state)\n",
    "\n",
    "                # Increment trace for current state\n",
    "                trace_key = (state[0],state[1],action)\n",
    "                if trace_key not in trace_dict:\n",
    "                    trace_dict[trace_key] = 0\n",
    "                trace_dict[trace_key] += 1\n",
    "                trace = list(trace_dict.values())\n",
    "\n",
    "                # Store in memory buffer\n",
    "                memory.append((state, action, reward, next_state, next_action, done, trace))\n",
    "\n",
    "                # Once there are sufficient samples in memory, randomly sample a batch to update Q network\n",
    "                if len(memory) >= self.batch_size:\n",
    "                    batch = random.choices(memory, k = self.batch_size)\n",
    "                    self.replay(batch, on_policy)\n",
    "\n",
    "                # Decay trace for past visited states\n",
    "                trace_dict[trace_key] = (self.gamma**step) * (self.lambd**step)\n",
    "\n",
    "                # Update state, action, episode_return, step\n",
    "                state, action = next_state, next_action\n",
    "                episode_return += reward\n",
    "                step += 1\n",
    "                \n",
    "                # Discard the episode if the agent reaches the step_limit but is still unable to reach the goal (i.e. the agent is stuck)\n",
    "                if step >= step_limit and not done:\n",
    "                    print('Episode reset, agent stuck')\n",
    "                    state, done, step, episode_return, trace_dict = self.reset_episode()\n",
    "                    action = self.epsilon_greedy_policy(state)\n",
    "\n",
    "    \n",
    "    def replay(self, batch, on_policy):\n",
    "        # Unpack batch and convert to required types\n",
    "        states, actions, rewards, next_states, next_actions, dones, traces = zip(*batch)\n",
    "        states = torch.tensor(states).to(torch.float32)\n",
    "        actions = torch.tensor(actions).to(torch.int64)\n",
    "        rewards = torch.tensor(rewards).to(torch.float32)\n",
    "        next_states = torch.tensor(next_states).to(torch.float32)\n",
    "        next_actions = torch.tensor(next_actions).to(torch.int64)\n",
    "        dones = torch.tensor(dones).to(torch.int16)\n",
    "\n",
    "        # Get next_q from Q_target\n",
    "        if on_policy==True:\n",
    "            # If acting on policy, get next_q from the next action taken\n",
    "            next_q = self.Q_target(next_states)\n",
    "            next_q = next_q.gather(1, next_actions.unsqueeze(-1)).squeeze(-1)\n",
    "        else:\n",
    "            # If NOT acting on policy, get next_q from the best possible next action\n",
    "            next_q = self.Q_target(next_states).max(1)[0]\n",
    "\n",
    "        targets = rewards + (self.gamma * next_q * (1 - dones))\n",
    "\n",
    "        # Get current_q from Q_main\n",
    "        current_q = self.Q_main(states)                                     # q values across all possible actions\n",
    "        current_q = current_q.gather(1, actions.unsqueeze(-1)).squeeze(-1)  # Pick the q value for the corresponding action taken\n",
    "\n",
    "        # Explode elibility traces to get the trace for that state\n",
    "        traces = [torch.tensor(trace).to(torch.float32) for trace in traces]\n",
    "        current_q = torch.cat([torch.mul(trace, q) for trace, q in zip(traces, current_q)])\n",
    "        targets = torch.cat([torch.mul(trace, target) for trace, target in zip(traces, targets)])\n",
    "\n",
    "\n",
    "        # Loss function: q_pred - q_target (where q_target = reward + gamma*next_q)\n",
    "        loss = nn.MSELoss()(current_q, targets)\n",
    "\n",
    "        # Update Q_main and perform soft update of Q_target\n",
    "        self._update_Qmain_weights(loss)"
   ]
  },
  {
   "cell_type": "markdown",
   "metadata": {},
   "source": [
    "## 4. Train the agents"
   ]
  },
  {
   "cell_type": "markdown",
   "metadata": {},
   "source": [
    "### 4.1 Set the environment and training parameters"
   ]
  },
  {
   "cell_type": "code",
   "execution_count": 4,
   "metadata": {},
   "outputs": [],
   "source": [
    "# Set the environment\n",
    "env = ContinuousGridWorld()\n",
    "training_episodes = 10_000\n",
    "\n",
    "# For storing the agents in this format {agent name: (agent, on_policy)}\n",
    "agents={}"
   ]
  },
  {
   "cell_type": "markdown",
   "metadata": {},
   "source": [
    "### 4.2 Define the agents and train"
   ]
  },
  {
   "cell_type": "code",
   "execution_count": 5,
   "metadata": {},
   "outputs": [
    {
     "name": "stderr",
     "output_type": "stream",
     "text": [
      "Episodes:   0%|          | 22/10000 [00:32<5:51:14,  2.11s/it]"
     ]
    },
    {
     "name": "stdout",
     "output_type": "stream",
     "text": [
      "Episode reset, agent stuck\n",
      "Episode reset, agent stuck\n",
      "Episode reset, agent stuck\n",
      "Episode reset, agent stuck\n"
     ]
    },
    {
     "name": "stderr",
     "output_type": "stream",
     "text": [
      "Episodes:  69%|██████▉   | 6920/10000 [10:21<04:48, 10.69it/s] "
     ]
    }
   ],
   "source": [
    "# Case 1: Monte Carlo\n",
    "agent_MC = TemporalDifference(env, alpha=0.001, gamma=0.99, epsilon=0.3, lambd=1)\n",
    "agents['Monte Carlo'] = (agent_MC, True)\n",
    "agent_MC.train(num_episodes=training_episodes)"
   ]
  },
  {
   "cell_type": "code",
   "execution_count": 65,
   "metadata": {},
   "outputs": [
    {
     "name": "stderr",
     "output_type": "stream",
     "text": [
      "Episodes:   0%|          | 4/10000 [00:08<6:53:15,  2.48s/it]"
     ]
    },
    {
     "name": "stdout",
     "output_type": "stream",
     "text": [
      "Episode reset, agent stuck\n",
      "Episode reset, agent stuck\n",
      "Episode reset, agent stuck\n",
      "Episode reset, agent stuck\n",
      "Episode reset, agent stuck\n",
      "Episode reset, agent stuck\n",
      "Episode reset, agent stuck\n",
      "Episode reset, agent stuck\n",
      "Episode reset, agent stuck\n",
      "Episode reset, agent stuck\n",
      "Episode reset, agent stuck\n",
      "Episode reset, agent stuck\n",
      "Episode reset, agent stuck\n"
     ]
    },
    {
     "name": "stderr",
     "output_type": "stream",
     "text": [
      "Episodes:   0%|          | 6/10000 [03:29<139:47:47, 50.36s/it]"
     ]
    },
    {
     "name": "stdout",
     "output_type": "stream",
     "text": [
      "Episode reset, agent stuck\n",
      "Episode reset, agent stuck\n",
      "Episode reset, agent stuck\n",
      "Episode reset, agent stuck\n",
      "Episode reset, agent stuck\n"
     ]
    },
    {
     "name": "stderr",
     "output_type": "stream",
     "text": [
      "Episodes:   0%|          | 10/10000 [04:41<52:28:28, 18.91s/it]"
     ]
    },
    {
     "name": "stdout",
     "output_type": "stream",
     "text": [
      "Episode reset, agent stuck\n",
      "Episode reset, agent stuck\n"
     ]
    },
    {
     "name": "stderr",
     "output_type": "stream",
     "text": [
      "Episodes: 100%|██████████| 10000/10000 [14:45<00:00, 11.29it/s]\n"
     ]
    }
   ],
   "source": [
    "# Case 2: SARSA\n",
    "agent_SARSA = TemporalDifference(env, alpha=0.001, gamma=0.99, epsilon=0.1, lambd=0)\n",
    "agents['SARSA'] = (agent_SARSA, True)\n",
    "agent_SARSA.train(num_episodes=training_episodes)"
   ]
  },
  {
   "cell_type": "code",
   "execution_count": 46,
   "metadata": {},
   "outputs": [
    {
     "name": "stderr",
     "output_type": "stream",
     "text": [
      "Episodes:   0%|          | 8/10000 [00:18<4:04:40,  1.47s/it] "
     ]
    },
    {
     "name": "stdout",
     "output_type": "stream",
     "text": [
      "Episode reset, agent stuck\n",
      "Episode reset, agent stuck\n",
      "Episode reset, agent stuck\n"
     ]
    },
    {
     "name": "stderr",
     "output_type": "stream",
     "text": [
      "Episodes: 100%|██████████| 10000/10000 [10:55<00:00, 15.26it/s]\n"
     ]
    }
   ],
   "source": [
    "# Case 3: Q-Learning\n",
    "agent_QLearning = TemporalDifference(env, alpha=0.001, gamma=0.99, epsilon=0.1, lambd=0)\n",
    "agents['Q-Learning'] = (agent_QLearning, False)\n",
    "agent_QLearning.train(num_episodes=training_episodes, on_policy=False)"
   ]
  },
  {
   "cell_type": "code",
   "execution_count": 85,
   "metadata": {},
   "outputs": [
    {
     "name": "stderr",
     "output_type": "stream",
     "text": [
      "Episodes:   0%|          | 4/10000 [00:26<18:18:46,  6.60s/it]"
     ]
    },
    {
     "name": "stdout",
     "output_type": "stream",
     "text": [
      "Episode reset, agent stuck\n"
     ]
    },
    {
     "name": "stderr",
     "output_type": "stream",
     "text": [
      "Episodes: 100%|██████████| 10000/10000 [12:40<00:00, 13.15it/s]\n"
     ]
    }
   ],
   "source": [
    "# Case 4: General on-policy TD(λ)\n",
    "agent_on_policy_TD = TemporalDifference(env, alpha=0.001, gamma=0.99, epsilon=0.1, lambd=0.5)\n",
    "agents['On-Policy TD(λ)'] = (agent_on_policy_TD, True)\n",
    "agent_on_policy_TD.train(num_episodes=training_episodes)"
   ]
  },
  {
   "cell_type": "code",
   "execution_count": 96,
   "metadata": {},
   "outputs": [
    {
     "name": "stderr",
     "output_type": "stream",
     "text": [
      "Episodes:   0%|          | 6/10000 [00:05<2:35:49,  1.07it/s]"
     ]
    },
    {
     "name": "stdout",
     "output_type": "stream",
     "text": [
      "Episode reset, agent stuck\n"
     ]
    },
    {
     "name": "stderr",
     "output_type": "stream",
     "text": [
      "Episodes:   0%|          | 7/10000 [00:36<29:12:58, 10.53s/it]"
     ]
    },
    {
     "name": "stdout",
     "output_type": "stream",
     "text": [
      "Episode reset, agent stuck\n"
     ]
    },
    {
     "name": "stderr",
     "output_type": "stream",
     "text": [
      "Episodes:   1%|          | 55/10000 [02:04<2:06:15,  1.31it/s] "
     ]
    },
    {
     "name": "stdout",
     "output_type": "stream",
     "text": [
      "Episode reset, agent stuck\n"
     ]
    },
    {
     "name": "stderr",
     "output_type": "stream",
     "text": [
      "Episodes: 100%|██████████| 10000/10000 [1:28:12<00:00,  1.89it/s]    \n"
     ]
    }
   ],
   "source": [
    "# Case 5: General off-policy TD(λ)\n",
    "agent_off_policy_TD = TemporalDifference(env, alpha=0.001, gamma=0.99, epsilon=0.1, lambd=0.5)\n",
    "agents['Off-Policy TD(λ)'] = (agent_off_policy_TD, False)\n",
    "agent_off_policy_TD.train(num_episodes=training_episodes, on_policy=False)"
   ]
  },
  {
   "cell_type": "markdown",
   "metadata": {},
   "source": [
    "## 5 Test on 1000 episodes and visualise results\n",
    "\n",
    "**Results and discussion**\n",
    "\n",
    "**1. Monte Carlo took the most number of steps on average to reach the goal**\n",
    "1. Agent Monte Carlo was the worst performing, taking the most number of steps on average to reach the goal.\n",
    "2. Training time was very long because episodes needed to complete. It is not the best algorithm to use for large, continuous state spaces (virtually infinite possibilities) since it has to explore all states sufficiently before it can learn meaningfully.\n",
    "3. The agent tends to get \"trapped\" around the walls when learning rate $α$ and exploration $ε$ were low, and the episode would take almost forever to finish, given the continuous state space.\n",
    "4. In the end, we choose a relatively higher exploration rate `ε=0.3` to make sure that the agent can explore enough to get itself out of corners. Techincally, the agent can only perform 25% of the actions to get itself out of the corner.\n",
    "5. We also had to implement early stopping due to compute constraints. A positive outcome of this is that the agent may learn better since we only commit \"good\" episodes to memory (i.e. those that take < `max_steps` steps to complete). `max_steps` had to be tuned carefully - too few steps and the agent may not be able to finish the episode at all, thus learning nothing.\n",
    "6. Overall, we see that the path Monte Carlo took wasn't really optimal, with a few erratic and redundnat steps. This is likely because the exploitation (70%) wasn't as high and that it hasn't really converged to an optimal policy yet.\n",
    "\n",
    "**2. SARSA, Q-Learning, General on-policy TD(λ) and General off-policy TD(λ) had comparable performance**\n",
    "1. The training times for all methods were significantly faster compared to Monte Carlo, likely due to the agents' online learning at every step. Training sped up significantly towards the end.\n",
    "2. According to Sutton and Barto (2015), temporal difference with eligibility traces can often be better than Monte Carlo ($λ=1$) or SARSA/Q-learning ($λ=0$). Here, we see all three performing on par, possibly because they are almost at convergence.\n",
    "3. Althought general off-policy TD(λ) took fewer steps on average, it was in the trap region more than the other 3 methods."
   ]
  },
  {
   "cell_type": "code",
   "execution_count": 73,
   "metadata": {},
   "outputs": [],
   "source": [
    "# Helper function to play a sample episode\n",
    "def play_sample_episode(agent, env):\n",
    "    state = env.reset()\n",
    "    done = False\n",
    "    path = [] # Keeps track of the states visited in the episode\n",
    "    step, steps_trapped, total_reward = 0, 0, 0\n",
    "\n",
    "    while not done:\n",
    "        action = agent.epsilon_greedy_policy(state)\n",
    "        path.append(state)\n",
    "        reward, next_state, done = env.transition(state, action)\n",
    "        if reward == -50:\n",
    "            steps_trapped += 1\n",
    "        total_reward += reward\n",
    "        state = next_state\n",
    "        step += 1\n",
    "\n",
    "    # Append the terminal state\n",
    "    path.append(state)\n",
    "\n",
    "    return step, path, steps_trapped, total_reward"
   ]
  },
  {
   "cell_type": "code",
   "execution_count": 103,
   "metadata": {},
   "outputs": [
    {
     "name": "stdout",
     "output_type": "stream",
     "text": [
      "+------------------+------------------------------------------------+-----------------+---------------------+-----------------------+\n",
      "|      Agent       |                   Parameters                   | Average Returns | Average Steps Taken | Average Steps in Trap |\n",
      "+------------------+------------------------------------------------+-----------------+---------------------+-----------------------+\n",
      "|   Monte Carlo    |  α=0.001, ɣ=0.99, ε=0.3, λ=1, on_policy=True   |      80.519     |        17.296       |         0.065         |\n",
      "|      SARSA       |  α=0.001, ɣ=0.99, ε=0.1, λ=0, on_policy=True   |      87.435     |        11.507       |         0.042         |\n",
      "|    Q-Learning    |  α=0.001, ɣ=0.99, ε=0.1, λ=0, on_policy=False  |      86.949     |        13.022       |         0.021         |\n",
      "| On-Policy TD(λ)  | α=0.001, ɣ=0.99, ε=0.1, λ=0.5, on_policy=True  |      86.665     |        13.159       |         0.024         |\n",
      "| Off-Policy TD(λ) | α=0.001, ɣ=0.99, ε=0.1, λ=0.5, on_policy=False |      86.496     |        11.711       |         0.057         |\n",
      "+------------------+------------------------------------------------+-----------------+---------------------+-----------------------+\n"
     ]
    }
   ],
   "source": [
    "test_episodes = 1000\n",
    "agents_results = {} # Store results in this format {(agent, episode): {'path':path, 'step':step, 'returns':returns}}\n",
    "\n",
    "table = PrettyTable([\"Agent\", \"Parameters\", \"Average Returns\", \"Average Steps Taken\", \"Average Steps in Trap\"])\n",
    "for key, value in agents.items():\n",
    "    name = key\n",
    "    agent = value[0]\n",
    "    on_policy = value[1]\n",
    "    # Create holders for results for each agent\n",
    "    episodes, steps, paths, returns, trapped = [], [], [], [], []\n",
    "    param = f'α={agent.alpha}, ɣ={agent.gamma}, ε={agent.epsilon}, λ={agent.lambd}, on_policy={on_policy}'\n",
    "    for episode in range(test_episodes):\n",
    "        step, path, steps_trapped, total_reward = play_sample_episode(agent, env)\n",
    "        episodes.append(episode)\n",
    "        steps.append(step)\n",
    "        paths.append(path)\n",
    "        returns.append(total_reward)\n",
    "        trapped.append(steps_trapped)\n",
    "\n",
    "        agents_results[(name, episode)] = {'path':path, 'step':step, 'returns':returns[episode], 'params':param}\n",
    "    table.add_row([name, param, np.average(returns), np.average(steps), np.average(trapped)])\n",
    "\n",
    "print(table)"
   ]
  },
  {
   "cell_type": "code",
   "execution_count": 99,
   "metadata": {},
   "outputs": [],
   "source": [
    "# Helper function to print paths for each agent\n",
    "def plot_path(agent_name, episode_num=0):\n",
    "    path = agents_results[agent_name, episode_num]['path']\n",
    "    steps = agents_results[agent_name, episode_num]['step']\n",
    "    episode_return = agents_results[agent_name, episode_num]['returns']\n",
    "    params = agents_results[agent_name, episode_num]['params']\n",
    "\n",
    "    width = 90\n",
    "    print(f\"{'#'*width}\")\n",
    "    print(f\"Agent {agent_name:}\".center(width))\n",
    "    print(f\"Episode {episode_num}\".center(width))\n",
    "    print(f\"{'#'*width}\")\n",
    "    print(f\"Number of steps: {steps} steps.\")\n",
    "    print(f\"Total reward for the episode: {episode_return}.\")\n",
    "    \n",
    "    x = [state[0] for state in path]\n",
    "    y = [state[1] for state in path]\n",
    "    \n",
    "    # For plotting arrows to show each step the agent takes\n",
    "    u, v = [], []\n",
    "    for i in range(1,len(x)):\n",
    "        u.append(x[i] - x[i-1])\n",
    "        v.append(y[i] - y[i-1])\n",
    "    u.append(0) # Add extra 0 to match the number of positions\n",
    "    v.append(0) # Add extra 0 to match the number of positions\n",
    "\n",
    "    # Plot world\n",
    "    fig, ax = plt.subplots()\n",
    "    ax.set_aspect('equal') # Sets a square grid\n",
    "    ax.set_title(f\"TemporalDifference({params})\")\n",
    "    ax.set_xlim(env.world[0][0], env.world[1][0])\n",
    "    ax.set_ylim(env.world[0][1], env.world[1][1])\n",
    "    # Plot goal\n",
    "    g_width = env.goal[1][0] - env.goal[0][0]\n",
    "    g_height = env.goal[1][1] - env.goal[0][1]\n",
    "    ax.add_patch(plt.Rectangle((env.goal[0][0], env.goal[0][1]), g_width, g_height, color = 'yellow'))\n",
    "    ax.annotate('G', (env.goal[0][0] + 0.5, env.goal[0][1] + 0.5), color='black', size=14, ha='center', va='center')\n",
    "    # Plot trap\n",
    "    t_width = env.trap[1][0] - env.trap[0][0]\n",
    "    t_height = env.trap[1][1] - env.trap[0][1]\n",
    "    ax.add_patch(plt.Rectangle((env.trap[0][0], env.trap[0][1]), t_width, t_height, color = 'grey'))\n",
    "    ax.annotate('T', (env.trap[0][0] + 0.5, env.trap[0][1] + 0.5), size=14, ha='center', va='center')\n",
    "    # Plot start\n",
    "    ax.plot(env.initial_pos[0],env.initial_pos[1],'ro')\n",
    "    ax.annotate('S', (env.initial_pos[0],env.initial_pos[1]), size=14, ha='center', va='center')\n",
    "\n",
    "    # Plot steps: arrows at coordinates (x, y) with directions (u, v)\n",
    "    ax.quiver(x, y, u, v, angles='xy', scale_units='xy', scale=1)\n",
    "\n",
    "    plt.show()"
   ]
  },
  {
   "cell_type": "code",
   "execution_count": 91,
   "metadata": {},
   "outputs": [
    {
     "name": "stdout",
     "output_type": "stream",
     "text": [
      "##########################################################################################\n",
      "                                    Agent Monte Carlo                                     \n",
      "                                        Episode 40                                        \n",
      "##########################################################################################\n",
      "Number of steps: 11 steps.\n",
      "Total reward for the episode: 90.\n"
     ]
    },
    {
     "data": {
      "image/png": "[encoded data removed]",
      "text/plain": [
       "<Figure size 640x480 with 1 Axes>"
      ]
     },
     "metadata": {},
     "output_type": "display_data"
    },
    {
     "name": "stdout",
     "output_type": "stream",
     "text": [
      "##########################################################################################\n",
      "                                       Agent SARSA                                        \n",
      "                                        Episode 40                                        \n",
      "##########################################################################################\n",
      "Number of steps: 10 steps.\n",
      "Total reward for the episode: 91.\n"
     ]
    },
    {
     "data": {
      "image/png": "[encoded data removed]",
      "text/plain": [
       "<Figure size 640x480 with 1 Axes>"
      ]
     },
     "metadata": {},
     "output_type": "display_data"
    },
    {
     "name": "stdout",
     "output_type": "stream",
     "text": [
      "##########################################################################################\n",
      "                                     Agent Q-Learning                                     \n",
      "                                        Episode 40                                        \n",
      "##########################################################################################\n",
      "Number of steps: 14 steps.\n",
      "Total reward for the episode: 87.\n"
     ]
    },
    {
     "data": {
      "image/png": "[encoded data removed]",
      "text/plain": [
       "<Figure size 640x480 with 1 Axes>"
      ]
     },
     "metadata": {},
     "output_type": "display_data"
    },
    {
     "name": "stdout",
     "output_type": "stream",
     "text": [
      "##########################################################################################\n",
      "                                  Agent On-Policy TD(λ)                                   \n",
      "                                        Episode 40                                        \n",
      "##########################################################################################\n",
      "Number of steps: 11 steps.\n",
      "Total reward for the episode: 90.\n"
     ]
    },
    {
     "data": {
      "image/png": "[encoded data removed]",
      "text/plain": [
       "<Figure size 640x480 with 1 Axes>"
      ]
     },
     "metadata": {},
     "output_type": "display_data"
    },
    {
     "name": "stdout",
     "output_type": "stream",
     "text": [
      "##########################################################################################\n",
      "                                  Agent Off-Policy TD(λ)                                  \n",
      "                                        Episode 40                                        \n",
      "##########################################################################################\n",
      "Number of steps: 11 steps.\n",
      "Total reward for the episode: 90.\n"
     ]
    },
    {
     "data": {
      "image/png": "[encoded data removed]",
      "text/plain": [
       "<Figure size 640x480 with 1 Axes>"
      ]
     },
     "metadata": {},
     "output_type": "display_data"
    }
   ],
   "source": [
    "episode_num=40\n",
    "\n",
    "for agent_name in agents.keys():\n",
    "    plot_path(agent_name, episode_num)"
   ]
  },
  {
   "cell_type": "markdown",
   "metadata": {},
   "source": [
    "## 6. References\n",
    "Doshi, K (2020, December 20). Reinforcement learning explained visually (part 5): Deep Q networks, step-by-step. _Towards Data Science_. https://towardsdatascience.com/reinforcement-learning-explained-visually-part-5-deep-q-networks-step-by-step-5a5317197f4b."
   ]
  }
 ],
 "metadata": {
  "kernelspec": {
   "display_name": "cs609",
   "language": "python",
   "name": "python3"
  },
  "language_info": {
   "codemirror_mode": {
    "name": "ipython",
    "version": 3
   },
   "file_extension": ".py",
   "mimetype": "text/x-python",
   "name": "python",
   "nbconvert_exporter": "python",
   "pygments_lexer": "ipython3",
   "version": "3.9.18"
  }
 },
 "nbformat": 4,
 "nbformat_minor": 2
}
